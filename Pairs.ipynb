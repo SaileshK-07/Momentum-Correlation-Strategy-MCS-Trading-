{
  "cells": [
    {
      "cell_type": "markdown",
      "metadata": {
        "id": "dBmd8kyLfMIg"
      },
      "source": [
        "## Paired Switching\n",
        "\n",
        "The idea behind this strategy is that if the assets are negatively correlated, then a traditional mixed portfolio might lead to a lower return than the return for the individual assets.\n",
        "\n",
        "We periodically compute the Co-relation Coefficients' Matrix and choose pair of stocks which have the most negative co-relations and trade in them. The basic idea being that if one of them would fall, then the other would rise and hence, we must switch between them!\n",
        "\n",
        "We need a re-balancing period ,i.e. The time after which we would be again calculating the co-relations and taking a different pair of stocks : **T**\n",
        "\n",
        "We would also need to keep switching between these selected stocks in a pair at a certain interval of time : **P**\n",
        "\n",
        "Next, We need to specify how many such pairs would we be trading in : **M**\n",
        "\n",
        "The Fraction of the total balance we would be investing on every turn : **R**\n",
        "\n",
        "The Brokerage Fee as a fraction of the total transaction amount : **F**\n",
        "\n"
      ]
    },
    {
      "cell_type": "code",
      "execution_count": null,
      "metadata": {
        "id": "KhmpNcaUextd"
      },
      "outputs": [],
      "source": [
        "import numpy as np\n",
        "import pandas as pd\n",
        "import datetime\n",
        "import matplotlib.pyplot as plt\n",
        "import seaborn as sns\n",
        "\n",
        "T = 60\n",
        "P = 7\n",
        "M = 4\n",
        "R = 0.8\n",
        "F = 0.005"
      ]
    },
    {
      "cell_type": "code",
      "execution_count": null,
      "metadata": {
        "id": "Ka_L9Ne6yOGY"
      },
      "outputs": [],
      "source": [
        "def GetData(NameOfFile):\n",
        "  return pd.DataFrame(pd.read_csv(NameOfFile, usecols = ['datadate','tic','adjcp']))"
      ]
    },
    {
      "cell_type": "code",
      "execution_count": null,
      "metadata": {
        "id": "I0jUbPe_yiGU"
      },
      "outputs": [],
      "source": [
        "def PartitionData(Data):\n",
        "  DateToIndex = {}\n",
        "  for e in range(len(Data['datadate'])):\n",
        "    DateToIndex.setdefault(str(Data['datadate'][e]),e)\n",
        "  return [np.array_split(Data,2926), DateToIndex]\n",
        "\n",
        "def GetMomentumBasedPriority(PartitionedDataFrameList, DateToIndex ,today):\n",
        "  NdaysAgo = datetime.date(int(today[0:4]),int(today[4:6]),int(today[6:])) + datetime.timedelta(days = -N)\n",
        "  i = 0\n",
        "  while i >= 0:\n",
        "    x = str(NdaysAgo - datetime.timedelta(days = i)).replace('-','')\n",
        "    if (x in DateToIndex.keys()):\n",
        "      break\n",
        "    i += 1\n",
        "  temp = x\n",
        "  Momentum = np.array(PartitionedDataFrameList[DateToIndex[today] % 2926]['adjcp']) - np.array(PartitionedDataFrameList[DateToIndex[temp] % 2926]['adjcp'])\n",
        "  Sum = np.array(PartitionedDataFrameList[DateToIndex[today] % 2926]['adjcp'])\n",
        "  for i in range((DateToIndex[temp] + 1), (DateToIndex[today]),30):\n",
        "    Sum += np.array(PartitionedDataFrameList[i % 2926]['adjcp'])\n",
        "  return Momentum * N / Sum\n",
        "\n",
        "def GetBalanced(prices, weights, balance):\n",
        "  copy = np.flip(np.sort(weights))\n",
        "  for i in range(M,len(weights)):\n",
        "    copy[i] = 0\n",
        "  for i in range(len(weights)):\n",
        "    if weights[i] not in copy:\n",
        "      weights[i] = 0\n",
        "    elif weights[i] < 0:\n",
        "      weights[i] = 0\n",
        "  sum = np.sum(weights)\n",
        "  if (sum <= 0):\n",
        "    return np.zeros(30, dtype = float)\n",
        "  weights /= sum\n",
        "  sum = np.sum(weights * prices)\n",
        "  return (balance / sum) * weights"
      ]
    },
    {
      "cell_type": "code",
      "execution_count": null,
      "metadata": {
        "id": "hUViRxVXwrB5"
      },
      "outputs": [],
      "source": [
        "def Switch(firstStock, secondStock, today ,PartitionedDataFrames):\n",
        "  weights = GetMomentumBasedPriority(PartitionedDataFrames, DateToIndex, today)\n",
        "  if weights[firstStock] >= weights[secondStock]:\n",
        "    return firstStock\n",
        "  else:\n",
        "    return secondStock"
      ]
    },
    {
      "cell_type": "code",
      "execution_count": null,
      "metadata": {
        "id": "SFJOHvgS1aq0"
      },
      "outputs": [],
      "source": [
        "class PortFolio:\n",
        "  def __init__(self, balance, numStocks, negCorr, prices):\n",
        "    self.balance = balance\n",
        "    self.numStocks = numStocks\n",
        "    self.numStocks += GetBalanced(prices,GetMomentumBasedPriority(PartitionedData,DateToIndex,list(DateToIndex.keys())[T]),self.balance)\n",
        "    self.prices = prices\n",
        "    self.balance -= np.sum(self.numStocks * self.prices) * (1 + F)\n",
        "    self.negCorr = negCorr\n",
        "\n",
        "  def SellStock(self, index):\n",
        "    self.balance += self.numStocks[index] * self.prices[index] * (1 - F)\n",
        "    self.numStocks[index] = 0\n",
        "  \n",
        "  def BuyStock(self, index, number):\n",
        "    self.balance -= number * self.prices[index] * (1 + F)\n",
        "\n",
        "  def CalculateNetWorth(self):\n",
        "    return self.balance + np.sum(self.numStocks * self.prices) * (1 - F)\n",
        "\n",
        "  def ChangePricesTo(self, newPriceVector):\n",
        "    self.prices = newPriceVector\n",
        "\n",
        "  def ChangePairs(self):\n",
        "    if self.negCorr == []:\n",
        "      return\n",
        "    for i in range(len(self.negCorr) - 1):\n",
        "      x = Switch(self.negCorr[i][0],self.negCorr[i][1],today,PartitionedData)\n",
        "      y = self.negCorr[i][0] + self.negCorr[i][1] - x\n",
        "      credit = self.numStocks[y] * self.prices[y] * (1 - F)\n",
        "      self.numStocks[y] = 0\n",
        "      self.numStocks[x] += credit / (self.prices[x] * (1 + F))\n",
        "  \n",
        "  def RebalancePortfolio(self):\n",
        "    TdaysAgo = datetime.date(int(today[0:4]),int(today[4:6]),int(today[6:])) + datetime.timedelta(days = -T)\n",
        "    i = 0\n",
        "    while i >= 0:\n",
        "      x = str(TdaysAgo - datetime.timedelta(days = i)).replace('-','')\n",
        "      if (x in DateToIndex.keys()):\n",
        "        break\n",
        "      i += 1\n",
        "    temp = x\n",
        "    Sum = [np.array(PartitionedData[DateToIndex[today] % 2926]['adjcp'])]\n",
        "    for i in range((DateToIndex[temp] + 1), (DateToIndex[today]),30):\n",
        "      Sum.append(np.array(PartitionedData[i % 2926]['adjcp']))\n",
        "    corrCoef = np.corrcoef(np.array(Sum))\n",
        "    copy = np.sort(corrCoef.flatten())\n",
        "    for k in range(M):\n",
        "      for i in range(corrCoef.shape[0]):\n",
        "        for j in range(30):\n",
        "          if abs(corrCoef[i][j] - copy[k]) < 1e-10:\n",
        "            self.negCorr.append((i,j))\n",
        "    self.negCorr = self.negCorr[0:M]\n",
        "    copy = self.negCorr.copy()\n",
        "    if self.negCorr == []:\n",
        "      return\n",
        "    for i in range(len(self.negCorr) - 1):\n",
        "      for j in range(i + 1, len(self.negCorr)):\n",
        "        x = list(self.negCorr[i])\n",
        "        y = list(self.negCorr[j])\n",
        "        if x[0] == y[0] or x[0] == y[1] or x[1] == y[0] or x[1] == y[1]:\n",
        "          if self.negCorr[j] in copy and copy.count(self.negCorr[j]) > 1:\n",
        "            copy.remove(self.negCorr[j])\n",
        "    self.negCorr = copy.copy()\n",
        "    self.ChangePairs()"
      ]
    },
    {
      "cell_type": "code",
      "execution_count": null,
      "metadata": {
        "id": "8qTWYyDn6mjt"
      },
      "outputs": [],
      "source": [
        "Data = GetData(\"/path/to/DATA.csv\")\n",
        "List = PartitionData(Data)\n",
        "PartitionedData = List[0]\n",
        "DateToIndex = List[1]\n",
        "\n",
        "myPortfolio = PortFolio(B * R,np.zeros(30, dtype = float),[],np.array(PartitionedData[int(list(DateToIndex.keys())[T]) % 2926]['adjcp']))\n",
        "NetWorthAfterEachTrade = [myPortfolio.CalculateNetWorth() + B * (1 - R)]\n",
        "\n",
        "for i in range((T + 1),len(PartitionedData)):\n",
        "  today = list(DateToIndex.keys())[i]\n",
        "  myPortfolio.ChangePricesTo(np.array(PartitionedData[int(today) % 2926]['adjcp']))\n",
        "  NetWorthAfterEachTrade.append(myPortfolio.CalculateNetWorth() + B * (1 - R))\n",
        "  if (i % T == 0):\n",
        "    myPortfolio.RebalancePortfolio()\n",
        "  if (i % P == 0):\n",
        "    myPortfolio.ChangePairs()\n",
        "  \n",
        "VisualizeData(NetWorthAfterEachTrade[:D])"
      ]
    },
    {
      "cell_type": "code",
      "execution_count": null,
      "metadata": {
        "id": "lPQny8RK7tmN"
      },
      "outputs": [],
      "source": [
        "def VisualizeData(FinalData):\n",
        "  plt.plot(FinalData)\n",
        "  plt.show()"
      ]
    },
    {
      "cell_type": "markdown",
      "metadata": {},
      "source": []
    }
  ],
  "metadata": {
    "colab": {
      "collapsed_sections": [],
      "name": "Pairs.ipynb",
      "provenance": []
    },
    "kernelspec": {
      "display_name": "Python 3",
      "name": "python3"
    },
    "language_info": {
      "name": "python"
    }
  },
  "nbformat": 4,
  "nbformat_minor": 0
}
