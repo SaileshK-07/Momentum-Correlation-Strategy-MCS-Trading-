{
 "cells": [
  {
   "cell_type": "markdown",
   "metadata": {
    "id": "U1k32GLIm1o5"
   },
   "source": [
    "## Momentum \n",
    "\n",
    "Momentum-based Trading is based on the assumption that Stocks which have performed will in the past, will perform better in the coming future.\n",
    " \n",
    "To define 'past', we take a variable **N**, and say that : \n",
    "\n",
    "<centre> Momentum(For A particular stock) = Close Price(Today) - Close Price(N-day ago) </centre>\n",
    "\n",
    "This gives us our first hyper-parameter (parameters of the model which could be changed in order to improve the model) : **N**\n",
    "\n",
    "We would also be reshuffling our [Portfolio](https://www.investopedia.com/terms/p/portfolio.asp) at certain intervals of time, which gives us our second hyper-parameter: **T** (The time after which we'll be reshuffling our Portfolio)\n",
    "\n",
    "Its never suggested to keep all your money invested, you must have some risk-free assets as well, so that even if you lose some of your cash in trading, you could still place better bets and regain that lost cash, Thus, We get our third Hyper-parameter: **R**, The Ratio of Total Balance, which we will using for investing.\n",
    "\n",
    "You will not be investing in all the 30 Tickers now, Will you? You will choose the top few stocks, which show the highest promise in terms of Momentum, which brings us to another hyper-parameter: **M**, The Number of Top few stocks (based on Momentum), which you'll keep in your Portfolio.\n",
    "\n",
    "Finally, There's some brokerage fee which you need to pay in order to place orders on the stock market, typically its less than 0.5% of the total amount : **F**\n"
   ]
  },
  {
   "cell_type": "code",
   "execution_count": 1,
   "metadata": {
    "id": "GpkE6S0ZjSlB"
   },
   "outputs": [],
   "source": [
    "import pandas as pd\n",
    "import numpy as np\n",
    "import datetime\n",
    "import matplotlib.pyplot as plt\n",
    "import seaborn as sns\n",
    "\n",
    "N = 50\n",
    "T = 7\n",
    "R = 0.8\n",
    "M = 5\n",
    "F = 0.005\n",
    "D = 500\n",
    "B = 10000"
   ]
  },
  {
   "cell_type": "code",
   "execution_count": 2,
   "metadata": {
    "id": "9rsbAPafuUk1"
   },
   "outputs": [],
   "source": [
    "def GetData(NameOfFile):\n",
    "  return pd.DataFrame(pd.read_csv(NameOfFile, usecols = ['datadate','tic','adjcp']))"
   ]
  },
  {
   "cell_type": "markdown",
   "metadata": {
    "id": "qkWJ29Kquf2B"
   },
   "source": [
    "To aid Data-Manipulation, it would be beneficial, if we split the DataFrame into many small parts each corresponding to the data corresponding to the 30 Tickers on a particular date. These small parts could then be stored in a list.\n",
    "\n"
   ]
  },
  {
   "cell_type": "code",
   "execution_count": 3,
   "metadata": {
    "id": "d4HLxmu9HTl8"
   },
   "outputs": [],
   "source": [
    "def PartitionData(Data):\n",
    "  DateToIndex = {}\n",
    "  for e in range(len(Data['datadate'])):\n",
    "    DateToIndex.setdefault(str(Data['datadate'][e]),e)\n",
    "  return [np.array_split(Data,2926), DateToIndex] "
   ]
  },
  {
   "cell_type": "code",
   "execution_count": 4,
   "metadata": {
    "id": "tMKHAcBnSG5n"
   },
   "outputs": [],
   "source": [
    "def GetMomentumBasedPriority(PartitionedDataFrameList, DateToIndex ,today):\n",
    "  NdaysAgo = datetime.date(int(today[0:4]),int(today[4:6]),int(today[6:])) + datetime.timedelta(days = -N)\n",
    "  i = 0\n",
    "  while i >= 0:\n",
    "    x = str(NdaysAgo - datetime.timedelta(days = i)).replace('-','')\n",
    "    if (x in DateToIndex.keys()):\n",
    "      break\n",
    "    i += 1\n",
    "  temp = x\n",
    "  Momentum = np.array(PartitionedDataFrameList[DateToIndex[today] % 2926]['adjcp']) - np.array(PartitionedDataFrameList[DateToIndex[temp] % 2926]['adjcp'])\n",
    "  Sum = np.array(PartitionedDataFrameList[DateToIndex[today] % 2926]['adjcp'])\n",
    "  for i in range((DateToIndex[temp] + 1), (DateToIndex[today]),30):\n",
    "    Sum += np.array(PartitionedDataFrameList[i % 2926]['adjcp'])\n",
    "  return Momentum * N / Sum"
   ]
  },
  {
   "cell_type": "code",
   "execution_count": 5,
   "metadata": {
    "id": "cQg8OWVg_qo5"
   },
   "outputs": [],
   "source": [
    "def GetBalanced(prices, weights,balance):\n",
    "  copy = np.flip(np.sort(weights))\n",
    "  for i in range(M,len(weights)):\n",
    "    copy[i] = 0\n",
    "  for i in range(len(weights)):\n",
    "    if weights[i] not in copy:\n",
    "      weights[i] = 0\n",
    "    elif weights[i] < 0:\n",
    "      weights[i] = 0\n",
    "  sum = np.sum(weights)\n",
    "  if (sum <= 0):\n",
    "    return np.zeros(30, dtype = float)\n",
    "  weights /= sum\n",
    "  sum = np.sum(weights * prices)\n",
    "  return (balance / sum) * weights"
   ]
  },
  {
   "cell_type": "code",
   "execution_count": 6,
   "metadata": {
    "id": "gi60d9qUNO0_"
   },
   "outputs": [],
   "source": [
    "class PortFolio:\n",
    "  def __init__(self, balance, numStocks, prices):\n",
    "    self.balance = balance\n",
    "    self.numStocks = numStocks\n",
    "    self.prices = prices\n",
    "\n",
    "  def SellStock(self, index):\n",
    "    self.balance += self.numStocks[index] * self.prices[index] * (1 - F)\n",
    "    self.numStocks[index] = 0\n",
    "  \n",
    "  def BuyStock(self, index, number):\n",
    "    self.balance -= number * self.prices[index] * (1 + F)\n",
    "\n",
    "  def CalculateNetWorth(self):\n",
    "    return self.balance + np.sum(self.numStocks * self.prices) * (1 - F)\n",
    "\n",
    "  def ChangePricesTo(self, newPriceVector):\n",
    "    self.prices = newPriceVector\n",
    "\n",
    "  def RebalancePortFolio(self, newWeights):\n",
    "    balanceCopy = self.balance + np.sum(self.numStocks * self.prices) * (1 - F)\n",
    "    newStocks = GetBalanced(self.prices, newWeights, balanceCopy)\n",
    "    for i in range(30):\n",
    "      balanceCopy -= self.prices[i] * newStocks[i] * (1 + F)\n",
    "    if balanceCopy + np.sum(self.prices * newStocks) * (1 - F) + B * (1 - R) >= self.CalculateNetWorth():\n",
    "      self.balance = balanceCopy\n",
    "      self.numStocks = newStocks"
   ]
  },
  {
   "cell_type": "code",
   "execution_count": 12,
   "metadata": {
    "id": "Z3AVQq09FxYm"
   },
   "outputs": [],
   "source": [
    "def VisualizeData(FinalData):\n",
    "  plt.plot(FinalData)\n",
    "  plt.show()"
   ]
  },
  {
   "cell_type": "markdown",
   "metadata": {
    "id": "cZoWhY8X9BSR"
   },
   "source": [
    "You may use this cell to write about what results you got!"
   ]
  },
  {
   "cell_type": "code",
   "execution_count": null,
   "metadata": {},
   "outputs": [],
   "source": []
  }
 ],
 "metadata": {
  "colab": {
   "collapsed_sections": [],
   "name": "Momentum.ipynb",
   "provenance": []
  },
  "kernelspec": {
   "display_name": "Python 3 (ipykernel)",
   "language": "python",
   "name": "python3"
  },
  "language_info": {
   "codemirror_mode": {
    "name": "ipython",
    "version": 3
   },
   "file_extension": ".py",
   "mimetype": "text/x-python",
   "name": "python",
   "nbconvert_exporter": "python",
   "pygments_lexer": "ipython3",
   "version": "3.10.13"
  }
 },
 "nbformat": 4,
 "nbformat_minor": 4
}
